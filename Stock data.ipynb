{
 "cells": [
  {
   "cell_type": "code",
   "execution_count": 1,
   "id": "b435da4d-e2c2-44af-8d5a-672746f0ed8f",
   "metadata": {},
   "outputs": [],
   "source": [
    "import pandas as pd"
   ]
  },
  {
   "cell_type": "code",
   "execution_count": 3,
   "id": "7cc2a52d-a785-44de-bd9e-0d929d24c451",
   "metadata": {
    "tags": []
   },
   "outputs": [],
   "source": [
    "data=pd.read_csv('combined_file.csv')"
   ]
  },
  {
   "cell_type": "code",
   "execution_count": 4,
   "id": "f957bd56-1aec-4fb8-89d6-3a5edf9c5b46",
   "metadata": {
    "tags": []
   },
   "outputs": [],
   "source": [
    "data_new=data[1:1000]"
   ]
  },
  {
   "cell_type": "code",
   "execution_count": 5,
   "id": "b8129b60-af78-4e4b-ad24-19fe0d7095b6",
   "metadata": {
    "tags": []
   },
   "outputs": [],
   "source": [
    "data_new.to_csv('sample dataset.csv')"
   ]
  },
  {
   "cell_type": "code",
   "execution_count": null,
   "id": "9b1681b1-1ac3-4daf-9062-b80c369d83d0",
   "metadata": {},
   "outputs": [],
   "source": []
  }
 ],
 "metadata": {
  "kernelspec": {
   "display_name": "d2l:Python",
   "language": "python",
   "name": "conda-env-d2l-py"
  },
  "language_info": {
   "codemirror_mode": {
    "name": "ipython",
    "version": 3
   },
   "file_extension": ".py",
   "mimetype": "text/x-python",
   "name": "python",
   "nbconvert_exporter": "python",
   "pygments_lexer": "ipython3",
   "version": "3.9.19"
  }
 },
 "nbformat": 4,
 "nbformat_minor": 5
}
