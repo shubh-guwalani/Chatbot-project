{
 "cells": [
  {
   "cell_type": "code",
   "execution_count": 71,
   "id": "8d01aa58-8031-4b8e-8bd2-970f822d927f",
   "metadata": {
    "tags": []
   },
   "outputs": [],
   "source": [
    "from transformers import AutoModelForSequenceClassification, TFAutoModelForSequenceClassification\n",
    "from transformers import AutoTokenizer\n",
    "import numpy as np\n",
    "from scipy.special import expit\n",
    "import pandas as pd\n",
    "\n",
    "    \n",
    "MODEL = f\"cardiffnlp/tweet-topic-latest-multi\"\n",
    "tokenizer = AutoTokenizer.from_pretrained(MODEL)\n",
    "\n",
    "# PT\n",
    "model = AutoModelForSequenceClassification.from_pretrained(MODEL)\n",
    "class_mapping = model.config.id2label\n",
    "\n",
    "df=pd.read_csv('reddit_scraped_100k.csv')\n",
    "\n",
    "#text = df['title'][n]\n",
    "\n",
    "text = \"WSB Went private, and due to an absolutely ridiculous onlsaught of low quality posts and WSB spam migration I am temporarily setting the spam filter to All - only posts approved by mods will show up\"\n",
    "tokens = tokenizer(text, return_tensors='pt')\n",
    "output = model(**tokens)\n",
    "\n",
    "scores = output[0][0].detach().numpy()\n",
    "scores = expit(scores)\n",
    "predictions = (scores >= 0.5) * 1\n",
    "\n",
    "\n",
    "# TF\n",
    "#tf_model = TFAutoModelForSequenceClassification.from_pretrained(MODEL)\n",
    "#class_mapping = tf_model.config.id2label\n",
    "#text = \"It is great to see athletes promoting awareness for climate change.\"\n",
    "#tokens = tokenizer(text, return_tensors='tf')\n",
    "#output = tf_model(**tokens)\n",
    "#scores = output[0][0]\n",
    "#scores = expit(scores)\n",
    "#predictions = (scores >= 0.5) * 1\n",
    "\n",
    "# Map to classes\n",
    "for i in range(len(predictions)):\n",
    "  if predictions[i]:\n",
    "    print(class_mapping[i])\n"
   ]
  },
  {
   "cell_type": "code",
   "execution_count": 110,
   "id": "1daecd80-ed1d-4731-b128-c0c9da98d18d",
   "metadata": {
    "tags": []
   },
   "outputs": [
    {
     "name": "stdout",
     "output_type": "stream",
     "text": [
      "(10000, 2)\n"
     ]
    }
   ],
   "source": [
    "df=pd.read_csv('reddit_scraped_100k.csv')\n",
    "df_new = pd.DataFrame(columns=['title', 'output'])\n",
    "df_new['title']=df['title']\n",
    "print(df_new.shape)"
   ]
  },
  {
   "cell_type": "code",
   "execution_count": 115,
   "id": "aa6eb00a-bd79-4c38-b271-3bd63026eadb",
   "metadata": {
    "tags": []
   },
   "outputs": [
    {
     "name": "stdout",
     "output_type": "stream",
     "text": [
      "CPU times: user 23 µs, sys: 1e+03 ns, total: 24 µs\n",
      "Wall time: 27.2 µs\n"
     ]
    },
    {
     "data": {
      "text/plain": [
       "10001"
      ]
     },
     "execution_count": 115,
     "metadata": {},
     "output_type": "execute_result"
    }
   ],
   "source": [
    "%%time\n",
    "df_new.shape[0]"
   ]
  },
  {
   "cell_type": "code",
   "execution_count": 112,
   "id": "cf6dabd4-01a9-4afa-80a8-48572f0ba711",
   "metadata": {},
   "outputs": [],
   "source": [
    "%%time\n",
    "from transformers import AutoModelForSequenceClassification, TFAutoModelForSequenceClassification\n",
    "from transformers import AutoTokenizer\n",
    "import numpy as np\n",
    "from scipy.special import expit\n",
    "\n",
    "MODEL = f\"cardiffnlp/tweet-topic-latest-multi\"\n",
    "tokenizer = AutoTokenizer.from_pretrained(MODEL)\n",
    "\n",
    "# PT\n",
    "model = AutoModelForSequenceClassification.from_pretrained(MODEL)\n",
    "class_mapping = model.config.id2label\n",
    "num=1\n",
    "for query in df_new['title'] :\n",
    "    \n",
    "    text = query\n",
    "    tokens = tokenizer(text, return_tensors='pt')\n",
    "    output = model(**tokens)\n",
    "\n",
    "    scores = output[0][0].detach().numpy()\n",
    "    scores = expit(scores)\n",
    "    predictions = (scores >= 0.5) * 1\n",
    "\n",
    "\n",
    "# TF\n",
    "#tf_model = TFAutoModelForSequenceClassification.from_pretrained(MODEL)\n",
    "#class_mapping = tf_model.config.id2label\n",
    "#text = \"It is great to see athletes promoting awareness for climate change.\"\n",
    "#tokens = tokenizer(text, return_tensors='tf')\n",
    "#output = tf_model(**tokens)\n",
    "#scores = output[0][0]\n",
    "#scores = expit(scores)\n",
    "#predictions = (scores >= 0.5) * 1\n",
    "    temp=''\n",
    "# Map to classes\n",
    "    for i in range(len(predictions)):\n",
    "        if predictions[i]:\n",
    "            #print(class_mapping[i])\n",
    "            if(temp!=''):\n",
    "                temp=temp + ', ' + class_mapping[i]\n",
    "            else:\n",
    "                temp=class_mapping[i]\n",
    "    #print(temp)\n",
    "    #df_new['output']=temp\n",
    "    #df_new['output'][num]=temp\n",
    "    df_new.loc[num, 'output'] = temp\n",
    "    num+=1"
   ]
  },
  {
   "cell_type": "code",
   "execution_count": 113,
   "id": "e06ca1d8-9f61-4426-91f8-f583e8ae4e8e",
   "metadata": {
    "tags": []
   },
   "outputs": [
    {
     "data": {
      "text/plain": [
       "0                                                      NaN\n",
       "1          business_&_entrepreneurs, news_&_social_concern\n",
       "2          business_&_entrepreneurs, news_&_social_concern\n",
       "3          business_&_entrepreneurs, news_&_social_concern\n",
       "4           business_&_entrepreneurs, science_&_technology\n",
       "                               ...                        \n",
       "9996                                 news_&_social_concern\n",
       "9997                                 news_&_social_concern\n",
       "9998     business_&_entrepreneurs, celebrity_&_pop_cult...\n",
       "9999       business_&_entrepreneurs, news_&_social_concern\n",
       "10000      business_&_entrepreneurs, news_&_social_concern\n",
       "Name: output, Length: 10001, dtype: object"
      ]
     },
     "execution_count": 113,
     "metadata": {},
     "output_type": "execute_result"
    }
   ],
   "source": [
    "df_new['output']"
   ]
  },
  {
   "cell_type": "code",
   "execution_count": 114,
   "id": "de0d8c7c-64ea-4098-bfa9-cef9800b75df",
   "metadata": {},
   "outputs": [],
   "source": [
    "df_new.to_csv('fnjksn.csv')"
   ]
  },
  {
   "cell_type": "code",
   "execution_count": null,
   "id": "5906af38-e271-4973-bf15-1e01c9620543",
   "metadata": {},
   "outputs": [],
   "source": []
  }
 ],
 "metadata": {
  "kernelspec": {
   "display_name": "d2l:Python",
   "language": "python",
   "name": "conda-env-d2l-py"
  },
  "language_info": {
   "codemirror_mode": {
    "name": "ipython",
    "version": 3
   },
   "file_extension": ".py",
   "mimetype": "text/x-python",
   "name": "python",
   "nbconvert_exporter": "python",
   "pygments_lexer": "ipython3",
   "version": "3.9.19"
  }
 },
 "nbformat": 4,
 "nbformat_minor": 5
}
